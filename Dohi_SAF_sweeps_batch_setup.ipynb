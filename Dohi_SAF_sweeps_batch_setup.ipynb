{
 "cells": [
  {
   "cell_type": "code",
   "execution_count": 6,
   "metadata": {},
   "outputs": [],
   "source": [
    "## SAF skyrmion simulations setup Ku Msat\n",
    "\n",
    "#********************************************************************\n",
    "#\n",
    "#  Description: \n",
    "#\n",
    "#   This python script generates mumax3 input scripts for a batch \n",
    "#   simulation. It uses the mumax3 template\n",
    "#   script \"homework2_natch_template.txt\" and substitutes the \n",
    "#   placeholders with actual values.\n",
    "#\n",
    "#   This file is written for the mumax3 workshop organised for the \n",
    "#   spintronic seminar series in the summer of 2020. For more \n",
    "#   information go to https://www.mumax.ugent.be/mumax3-workshop\n",
    "#  \n",
    "#  Authors:\n",
    "#\n",
    "#   Dr. Jonathan Leliaert (jonathan.leliaert@ugent.be)\n",
    "#   Dr. Jeroen Mulkers    (jeroen.mulkers@ugent.be)\n",
    "#\n",
    "#   Original file name:  homework2_batch_setup.py\n",
    "#\n",
    "#********************************************************************\n",
    "from string import Template\n",
    "import os\n",
    "\n",
    "# specify the values for which we want to generate the scripts\n",
    "#jx_values   = [ 1e11*i for i in range(5,21) ]\n",
    "Dind = 2.0e-3 # J/m3\n",
    "Aex = 10e-12  # J/m\n",
    "#Msat_values = [1e3*i for i in range(1250,1400,50)] # A/m (1.2 T) [ 1e3*i for i in range(300,385,5) ]\n",
    "#Ku_values = [1e4*i for i in range(55,160,5)] # J/m3  [ 1e4*i for i in range(74,81) ]\n",
    "#Ku_values = [-85e6, -85e5, -85e4, -85e3, -85e2, 85e2, 85e3, 85e4, 85e5, 85e6 ] # J/m3  [ 1e4*i for i in range(74,81) ]\n",
    "#Msat_values = [ 955e-3, 955e-2, 955e-1 ,955e1, 955e2, 955e3 ]\n",
    "#Msat_values = [700e3 , 755e3, 800e3, 855e3, 900e3, 955e3]\n",
    "Msat_values = [755e3,855e3,955e3]\n",
    "Ku_values = [75e4, 85e4, 95e4]\n",
    "\n",
    "rkky = -0.13e-3 # J/m2\n",
    "\n",
    "Bz = 0\n",
    "\n",
    "Temp = 300\n",
    "\n",
    "# read template script\n",
    "with open(\"Dohi_SAF_batch_template.txt\",'r') as f:\n",
    "    scripttmpl = Template(f.read()) \n",
    "    \n",
    "# create a directory for each Ms value\n",
    "for Ms in Msat_values:\n",
    "    dirname = \"../MsKu_sweeps_p12_T/Ms_%02d\"%Ms\n",
    "    os.makedirs(dirname)\n",
    "\n",
    "    for Ku in Ku_values:\n",
    "\n",
    "        # write the script for each Ku value\n",
    "        script = scripttmpl.substitute(dict(KU=Ku, MSAT=Ms, DIND=Dind, AEX=Aex, RKKY=rkky, BZ=Bz, TEMP=Temp))\n",
    "        scriptfile = os.path.join(dirname, \"Ku_%g.mx3\"%Ku)\n",
    "        with open(scriptfile,'w') as f:\n",
    "            f.write(script)"
   ]
  },
  {
   "cell_type": "code",
   "execution_count": 5,
   "metadata": {},
   "outputs": [
    {
     "data": {
      "text/plain": [
       "[100000.0,\n",
       " 200000.0,\n",
       " 300000.0,\n",
       " 400000.0,\n",
       " 500000.0,\n",
       " 600000.0,\n",
       " 700000.0,\n",
       " 800000.0,\n",
       " 900000.0,\n",
       " 1000000.0,\n",
       " 1100000.0,\n",
       " 1200000.0,\n",
       " 1300000.0,\n",
       " 1400000.0,\n",
       " 955000.0]"
      ]
     },
     "execution_count": 5,
     "metadata": {},
     "output_type": "execute_result"
    }
   ],
   "source": [
    "len(Ms)"
   ]
  },
  {
   "cell_type": "code",
   "execution_count": 3,
   "metadata": {},
   "outputs": [
    {
     "data": {
      "text/plain": [
       "28"
      ]
     },
     "execution_count": 3,
     "metadata": {},
     "output_type": "execute_result"
    }
   ],
   "source": [
    "len([1e3*i for i in range(100,1500,50)])"
   ]
  },
  {
   "cell_type": "code",
   "execution_count": 5,
   "metadata": {},
   "outputs": [],
   "source": [
    "## SAF skyrmion simulations setup Ku Jint\n",
    "\n",
    "#********************************************************************\n",
    "#\n",
    "#  Description: \n",
    "#\n",
    "#   This python script generates mumax3 input scripts for a batch \n",
    "#   simulation. It uses the mumax3 template\n",
    "#   script \"homework2_natch_template.txt\" and substitutes the \n",
    "#   placeholders with actual values.\n",
    "#\n",
    "#   This file is written for the mumax3 workshop organised for the \n",
    "#   spintronic seminar series in the summer of 2020. For more \n",
    "#   information go to https://www.mumax.ugent.be/mumax3-workshop\n",
    "#  \n",
    "#  Authors:\n",
    "#\n",
    "#   Dr. Jonathan Leliaert (jonathan.leliaert@ugent.be)\n",
    "#   Dr. Jeroen Mulkers    (jeroen.mulkers@ugent.be)\n",
    "#\n",
    "#   Original file name:  homework2_batch_setup.py\n",
    "#\n",
    "#********************************************************************\n",
    "from string import Template\n",
    "import os\n",
    "\n",
    "# specify the values for which we want to generate the scripts\n",
    "#jx_values   = [ 1e11*i for i in range(5,21) ]\n",
    "Dind = 2.0e-3 # J/m3\n",
    "Aex = 10e-12  # J/m\n",
    "Msat = 954929.65 # A/m (1.2 T = 954929.65) [1e3*i for i in range(850,995,5)]\n",
    "Ku_values = [1e4*i for i in range(105,205,5)] # J/m3  [ 1e4*i for i in range(74,81) ]\n",
    "rkky_values = [-5e-5, -13e-5, -26e-5, -46e-5, -76e-5, -100e-5, -200e-5] #-0.13e-3 J/m2\n",
    "\n",
    "\n",
    "# read template script\n",
    "with open(\"Dohi_SAF_batch_template.txt\",'r') as f:\n",
    "    scripttmpl = Template(f.read()) \n",
    "    \n",
    "# create a directory for each Ms value\n",
    "for rkky in rkky_values:\n",
    "    dirname = \"JintKu_sweeps_p2/Jint_%s\"%str(-1*rkky).replace('.','_')\n",
    "    os.makedirs(dirname)\n",
    "\n",
    "    for Ku in Ku_values:\n",
    "\n",
    "        # write the script for each Ku value\n",
    "        script = scripttmpl.substitute(dict(KU=Ku, MSAT=Msat, DIND=Dind, AEX=Aex, RKKY=rkky))\n",
    "        scriptfile = os.path.join(dirname, \"Ku_%g.mx3\"%Ku)\n",
    "        with open(scriptfile,'w') as f:\n",
    "            f.write(script)"
   ]
  },
  {
   "cell_type": "code",
   "execution_count": 6,
   "metadata": {},
   "outputs": [],
   "source": [
    "import shutil\n",
    "shutil.rmtree(\"JintKu_sweeps/\")"
   ]
  },
  {
   "cell_type": "code",
   "execution_count": null,
   "metadata": {},
   "outputs": [],
   "source": []
  },
  {
   "cell_type": "code",
   "execution_count": 2,
   "metadata": {},
   "outputs": [],
   "source": [
    "## SAF skyrmion simulations setup Ku, DMI\n",
    "\n",
    "#********************************************************************\n",
    "#\n",
    "#  Description: \n",
    "#\n",
    "#   This python script generates mumax3 input scripts for a batch \n",
    "#   simulation. It uses the mumax3 template\n",
    "#   script \"homework2_natch_template.txt\" and substitutes the \n",
    "#   placeholders with actual values.\n",
    "#\n",
    "#   This file is written for the mumax3 workshop organised for the \n",
    "#   spintronic seminar series in the summer of 2020. For more \n",
    "#   information go to https://www.mumax.ugent.be/mumax3-workshop\n",
    "#  \n",
    "#  Authors:\n",
    "#\n",
    "#   Dr. Jonathan Leliaert (jonathan.leliaert@ugent.be)\n",
    "#   Dr. Jeroen Mulkers    (jeroen.mulkers@ugent.be)\n",
    "#\n",
    "#   Original file name:  homework2_batch_setup.py\n",
    "#\n",
    "#********************************************************************\n",
    "from string import Template\n",
    "import os\n",
    "\n",
    "# specify the values for which we want to generate the scripts\n",
    "#jx_values   = [ 1e11*i for i in range(5,21) ]\n",
    "Dind_values = [1e-4*i for i in range(10,55,5)] #2.0e-3 J/m3\n",
    "Aex = 10e-12  # J/m\n",
    "Msat = 954929.65 # A/m (1.2 T = 954929.65) [1e3*i for i in range(850,995,5)]\n",
    "Ku_values = [1e4*i for i in range(65,250,10)] # J/m3  [ 1e4*i for i in range(74,81) ]\n",
    "rkky= -0.13e-3 #-0.13e-3 J/m2\n",
    "\n",
    "\n",
    "# read template script\n",
    "with open(\"Dohi_SAF_batch_template.txt\",'r') as f:\n",
    "    scripttmpl = Template(f.read()) \n",
    "    \n",
    "# create a directory for each Ms value\n",
    "for Dind in Dind_values:\n",
    "    dirname = \"DindKu_sweeps_p4/Dind_%s\"%str(1*Dind).replace('.','_')\n",
    "    os.makedirs(dirname)\n",
    "\n",
    "    for Ku in Ku_values:\n",
    "\n",
    "        # write the script for each Ku value\n",
    "        script = scripttmpl.substitute(dict(KU=Ku, MSAT=Msat, DIND=Dind, AEX=Aex, RKKY=rkky))\n",
    "        scriptfile = os.path.join(dirname, \"Ku_%g.mx3\"%Ku)\n",
    "        with open(scriptfile,'w') as f:\n",
    "            f.write(script)"
   ]
  },
  {
   "cell_type": "code",
   "execution_count": 14,
   "metadata": {},
   "outputs": [
    {
     "data": {
      "text/plain": [
       "20"
      ]
     },
     "execution_count": 14,
     "metadata": {},
     "output_type": "execute_result"
    }
   ],
   "source": [
    "len([1e4*i for i in range(55,250,10)]) #2.0e-3 J/m3"
   ]
  },
  {
   "cell_type": "code",
   "execution_count": 1,
   "metadata": {},
   "outputs": [],
   "source": [
    "## SAF skyrmion simulations setup Hz, Jint\n",
    "\n",
    "#********************************************************************\n",
    "#\n",
    "#  Description: \n",
    "#\n",
    "#   This python script generates mumax3 input scripts for a batch \n",
    "#   simulation. It uses the mumax3 template\n",
    "#   script \"homework2_natch_template.txt\" and substitutes the \n",
    "#   placeholders with actual values.\n",
    "#\n",
    "#   This file is written for the mumax3 workshop organised for the \n",
    "#   spintronic seminar series in the summer of 2020. For more \n",
    "#   information go to https://www.mumax.ugent.be/mumax3-workshop\n",
    "#  \n",
    "#  Authors:\n",
    "#\n",
    "#   Dr. Jonathan Leliaert (jonathan.leliaert@ugent.be)\n",
    "#   Dr. Jeroen Mulkers    (jeroen.mulkers@ugent.be)\n",
    "#\n",
    "#   Original file name:  homework2_batch_setup.py\n",
    "#\n",
    "#********************************************************************\n",
    "from string import Template\n",
    "import os\n",
    "\n",
    "# specify the values for which we want to generate the scripts\n",
    "#jx_values   = [ 1e11*i for i in range(5,21) ]\n",
    "Dind = 2.0e-3 #2.0e-3 J/m2\n",
    "Aex = 10e-12  # J/m\n",
    "Msat = 954929.65 # A/m (1.2 T = 954929.65) [1e3*i for i in range(850,995,5)]\n",
    "Ku = 0.85e6 # J/m3  [ 1e4*i for i in range(74,81) ]\n",
    "#rkky_values = [-1e-5, -5e-5, -13e-5, -26e-5, -46e-5, -76e-5, -100e-5, -150e-5, -200e-5] #-0.13e-3 J/m2\n",
    "#Bz_values = [ 20e-3, 50e-3, 100e-3, 300e-3, 500e-3, 1000e-3, 1200e-3, 1600e-3, 2000e-3, 2200e-3, 2600e-3, 3000e-3,\n",
    "#            3500e-3, 4000e-3]\n",
    "#Bz_values = [ 100e-3, 125e-3, 150e-3, 175e-3, 200e-3, 225e-3, 250e-3, 260-3, 275e-3, 300e-3 ]\n",
    "#Bz_values = [1e-3*i for i in range(20,140,10)]\n",
    "#rkky_values = [-1e-5*i for i in range(1,50,5)]\n",
    "Bz_values = [0]\n",
    "rkky_values = [-13e-5, -26e-5, -46e-5, -76e-5]\n",
    "\n",
    "# read template script\n",
    "with open(\"Dohi_SAF_batch_template.txt\",'r') as f:\n",
    "    scripttmpl = Template(f.read()) \n",
    "    \n",
    "# create a directory for each value\n",
    "for rkky in rkky_values:\n",
    "    dirname = \"../Jint_sweeps_T_p1/Jint_%s\"%str(-1*rkky).replace('.','_')\n",
    "    os.makedirs(dirname)\n",
    "\n",
    "    for Bz in Bz_values:\n",
    "\n",
    "        # write the script for each Ku value\n",
    "        script = scripttmpl.substitute(dict(KU=Ku, MSAT=Msat, DIND=Dind, AEX=Aex, RKKY=rkky, BZ=Bz))\n",
    "        scriptfile = os.path.join(dirname, \"Bz_%g.mx3\"%Bz)\n",
    "        with open(scriptfile,'w') as f:\n",
    "            f.write(script)"
   ]
  },
  {
   "cell_type": "code",
   "execution_count": 5,
   "metadata": {},
   "outputs": [
    {
     "data": {
      "text/plain": [
       "10"
      ]
     },
     "execution_count": 5,
     "metadata": {},
     "output_type": "execute_result"
    }
   ],
   "source": [
    "len( [-1e-5*i for i in range(1,50,5)])"
   ]
  },
  {
   "cell_type": "code",
   "execution_count": 6,
   "metadata": {},
   "outputs": [
    {
     "data": {
      "text/plain": [
       "[-1e-05,\n",
       " -6.000000000000001e-05,\n",
       " -0.00011,\n",
       " -0.00016,\n",
       " -0.00021,\n",
       " -0.00026000000000000003,\n",
       " -0.00031,\n",
       " -0.00036,\n",
       " -0.00041000000000000005,\n",
       " -0.00046]"
      ]
     },
     "execution_count": 6,
     "metadata": {},
     "output_type": "execute_result"
    }
   ],
   "source": [
    "[-1e-5*i for i in range(1,50,5)]"
   ]
  },
  {
   "cell_type": "code",
   "execution_count": 3,
   "metadata": {},
   "outputs": [],
   "source": [
    "## SAF skyrmion simulations setup Je (current density) with Bz and Jint \n",
    "\n",
    "#********************************************************************\n",
    "#\n",
    "#  Description: \n",
    "#\n",
    "#   This python script generates mumax3 input scripts for a batch \n",
    "#   simulation. It uses the mumax3 template\n",
    "#   script \"homework2_natch_template.txt\" and substitutes the \n",
    "#   placeholders with actual values.\n",
    "#\n",
    "#   This file is written for the mumax3 workshop organised for the \n",
    "#   spintronic seminar series in the summer of 2020. For more \n",
    "#   information go to https://www.mumax.ugent.be/mumax3-workshop\n",
    "#  \n",
    "#  Authors:\n",
    "#\n",
    "#   Dr. Jonathan Leliaert (jonathan.leliaert@ugent.be)\n",
    "#   Dr. Jeroen Mulkers    (jeroen.mulkers@ugent.be)\n",
    "#\n",
    "#   Original file name:  homework2_batch_setup.py\n",
    "#\n",
    "#********************************************************************\n",
    "from string import Template\n",
    "import os\n",
    "\n",
    "# specify the values for which we want to generate the scripts\n",
    "#jx_values   = [ 1e10*i for i in range(1,50,5) ]\n",
    "#jx_values = [0.2e10, 0.5e10, 1e10, 2e10, 3e10, 4e10, 5e10]\n",
    "Dind = 2.0e-3 #2.0e-3 J/m2\n",
    "Aex = 10e-12  # J/m\n",
    "Msat = 954929.65 # A/m (1.2 T = 954929.65) [1e3*i for i in range(850,995,5)]\n",
    "Ku = 0.85e6 # J/m3  [ 1e4*i for i in range(74,81) ]\n",
    "#rkky = -0.13e-3 # J/m2\n",
    "rkky_values = [-13e-5, 26e-5, -46e-5, -70e-5, -90e-5] #[-5e-5, -13e-5, -26e-5, -36e-5, -46e-5]\n",
    "#Bz_values = [0]+[1e-3*i for i in range(20,120,10)]\n",
    "#Bz_values = [0]+[1e-3*i for i in range(10,110,10)]\n",
    "Bz = 0\n",
    "\n",
    "# read template script\n",
    "with open(\"SweepJe_Dohi_SAF_batch_template.txt\",'r') as f:\n",
    "    scripttmpl = Template(f.read()) \n",
    "    \n",
    "# for rkky in rkky_values:\n",
    "#     dirname = \"../Je_JintBz_sweeps_p14/Jint_%s\"%str(-1*rkky).replace('.','_')\n",
    "#     os.makedirs(dirname) \n",
    "    \n",
    "#     for Bz in Bz_values:\n",
    "           \n",
    "#         # write the script for each value\n",
    "#         script = scripttmpl.substitute(dict(KU=Ku, MSAT=Msat, DIND=Dind, AEX=Aex, RKKY=rkky, BZ=Bz))\n",
    "#         scriptfile = os.path.join(dirname, \"Bz_%g.mx3\"%Bz)\n",
    "#         with open(scriptfile,'w') as f:\n",
    "#             f.write(script)\n",
    "    \n",
    "dirname = \"../Je_Jint_sweeps\"\n",
    "os.makedirs(dirname)\n",
    "# create a directory for each  value\n",
    "for rkky in rkky_values:\n",
    "    script = scripttmpl.substitute(dict(KU=Ku, MSAT=Msat, DIND=Dind, AEX=Aex, RKKY=rkky, BZ=Bz))\n",
    "    scriptfile = os.path.join(dirname, \"Jint_%s.mx3\"%str(-1*rkky).replace('.','_'))\n",
    "    with open(scriptfile,'w') as f:\n",
    "        f.write(script)"
   ]
  },
  {
   "cell_type": "code",
   "execution_count": 1,
   "metadata": {},
   "outputs": [
    {
     "data": {
      "text/plain": [
       "[0, 0.02, 0.03, 0.04, 0.05, 0.06, 0.07, 0.08, 0.09, 0.1, 0.11]"
      ]
     },
     "execution_count": 1,
     "metadata": {},
     "output_type": "execute_result"
    }
   ],
   "source": [
    "[0]+[1e-3*i for i in range(20,120,10)]"
   ]
  },
  {
   "cell_type": "code",
   "execution_count": 2,
   "metadata": {},
   "outputs": [],
   "source": [
    "## SAF skyrmion simulations setup Je (current density) with Ms and Jint \n",
    "\n",
    "#********************************************************************\n",
    "#\n",
    "#  Description: \n",
    "#\n",
    "#   This python script generates mumax3 input scripts for a batch \n",
    "#   simulation. It uses the mumax3 template\n",
    "#   script \"homework2_natch_template.txt\" and substitutes the \n",
    "#   placeholders with actual values.\n",
    "#\n",
    "#   This file is written for the mumax3 workshop organised for the \n",
    "#   spintronic seminar series in the summer of 2020. For more \n",
    "#   information go to https://www.mumax.ugent.be/mumax3-workshop\n",
    "#  \n",
    "#  Authors:\n",
    "#\n",
    "#   Dr. Jonathan Leliaert (jonathan.leliaert@ugent.be)\n",
    "#   Dr. Jeroen Mulkers    (jeroen.mulkers@ugent.be)\n",
    "#\n",
    "#   Original file name:  homework2_batch_setup.py\n",
    "#\n",
    "#********************************************************************\n",
    "from string import Template\n",
    "import os\n",
    "\n",
    "# specify the values for which we want to generate the scripts\n",
    "#jx_values   = [ 1e10*i for i in range(1,50,5) ]\n",
    "#jx_values = [0.2e10, 0.5e10, 1e10, 2e10, 3e10, 4e10, 5e10]\n",
    "Dind = 2.0e-3 #2.0e-3 J/m2\n",
    "Aex = 10e-12  # J/m\n",
    "Ms_values = [1e3*i for i in range(700,1000,50)] # A/m (1.2 T = 954929.65) [1e3*i for i in range(850,995,5)]\n",
    "Ku = 0.85e6 # J/m3  [ 1e4*i for i in range(74,81) ]\n",
    "#rkky = -0.13e-3 # J/m2\n",
    "rkky_values = [-5e-5, -13e-5, -26e-5, -36e-5, -46e-5, -76e-5]\n",
    "#Bz_values = [0]+[1e-3*i for i in range(20,120,10)]\n",
    "Bz = 0\n",
    "\n",
    "\n",
    "# read template script\n",
    "with open(\"SweepJe_Dohi_SAF_batch_template.txt\",'r') as f:\n",
    "    scripttmpl = Template(f.read()) \n",
    "    \n",
    "for rkky in rkky_values:\n",
    "    dirname = \"../Je_JintMs_sweeps_p1/Jint_%s\"%str(-1*rkky).replace('.','_')\n",
    "    os.makedirs(dirname) \n",
    "    \n",
    "    for Ms in Ms_values:\n",
    "           \n",
    "        # write the script for each value\n",
    "        script = scripttmpl.substitute(dict(KU=Ku, MSAT=Ms, DIND=Dind, AEX=Aex, RKKY=rkky, BZ=Bz))\n",
    "        scriptfile = os.path.join(dirname, \"Ms_%g.mx3\"%Ms)\n",
    "        with open(scriptfile,'w') as f:\n",
    "            f.write(script)\n",
    "    \n",
    "# dirname = \"Je_sweeps\"\n",
    "# os.makedirs(dirname)\n",
    "# # create a directory for each Ms value\n",
    "# for Je in jx_values:\n",
    "#     script = scripttmpl.substitute(dict(KU=Ku, MSAT=Msat, DIND=Dind, AEX=Aex, RKKY=rkky, JE=Je))\n",
    "#     scriptfile = os.path.join(dirname, \"Je_%g.mx3\"%Je)\n",
    "#     with open(scriptfile,'w') as f:\n",
    "#         f.write(script)"
   ]
  },
  {
   "cell_type": "code",
   "execution_count": null,
   "metadata": {},
   "outputs": [],
   "source": []
  }
 ],
 "metadata": {
  "kernelspec": {
   "display_name": "Python 3 (ipykernel)",
   "language": "python",
   "name": "python3"
  },
  "language_info": {
   "codemirror_mode": {
    "name": "ipython",
    "version": 3
   },
   "file_extension": ".py",
   "mimetype": "text/x-python",
   "name": "python",
   "nbconvert_exporter": "python",
   "pygments_lexer": "ipython3",
   "version": "3.7.0"
  }
 },
 "nbformat": 4,
 "nbformat_minor": 2
}
